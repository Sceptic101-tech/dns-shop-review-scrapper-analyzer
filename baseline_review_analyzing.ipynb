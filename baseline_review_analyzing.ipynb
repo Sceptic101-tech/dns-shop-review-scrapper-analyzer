{
 "cells": [
  {
   "cell_type": "code",
   "execution_count": 1,
   "id": "e0213355",
   "metadata": {},
   "outputs": [],
   "source": [
    "from scripts.parser import DNS_Shop_Parser\n",
    "from keybert import KeyBERT\n",
    "from pymystem3 import Mystem\n",
    "from wordcloud import WordCloud\n",
    "import scripts.text_processing as tp\n",
    "from config import Config\n",
    "# import multiprocessing as mp\n",
    "# import nltk\n",
    "import re\n",
    "import os"
   ]
  },
  {
   "cell_type": "code",
   "execution_count": 2,
   "id": "a8f6b761",
   "metadata": {},
   "outputs": [],
   "source": [
    "# TODO многпоточная лемматизация,\n",
    "# Добавить список стоп-слов"
   ]
  },
  {
   "cell_type": "markdown",
   "id": "56dc40eb",
   "metadata": {},
   "source": [
    "На вход приходит список словарей. Каждый словарь может содержать ключи 'Достоинства', 'Недостатки', 'Комментарий', 'Фото', а также ключи вида \"Дополнение от 27 мая 2025 года\", от которых необходимо избавиться.\\\n",
    "Наблюдение: если в отзыве есть \"Дополнение...\", то есть как минимум 'Достоинства' или 'Недостатки' или 'Комментарий'."
   ]
  },
  {
   "cell_type": "markdown",
   "id": "528d987e",
   "metadata": {},
   "source": [
    "Препроцессинг текста"
   ]
  },
  {
   "cell_type": "code",
   "execution_count": 3,
   "id": "71a8a432",
   "metadata": {},
   "outputs": [],
   "source": [
    "parser = DNS_Shop_Parser(headless=Config.BROWSER_HEADLESS)"
   ]
  },
  {
   "cell_type": "markdown",
   "id": "e69588f5",
   "metadata": {},
   "source": [
    "Извлечение отзывов из текстового файла на время тестов, воизбежание бана в ДНС"
   ]
  },
  {
   "cell_type": "code",
   "execution_count": 4,
   "id": "59bcdb6d",
   "metadata": {},
   "outputs": [],
   "source": [
    "reviews = []\n",
    "with open(Config.RAW_HTML_PATH, 'r', encoding='utf-8') as file:\n",
    "    reviews = parser.extract_reviews(file.read()) # propper form: list of dictionaries"
   ]
  },
  {
   "cell_type": "code",
   "execution_count": 5,
   "id": "74bfbcf3",
   "metadata": {},
   "outputs": [],
   "source": [
    "# Извлечение отзывов задуманным способом, через открытие и скраппинга страницы\n",
    "# parser.open_DNS_site() # execute once\n",
    "# reviews = parser.get_product_reviews('https://www.dns-shop.ru/product/opinion/7ffd0f95a89cd21a/667-smartfon-xiaomi-redmi-note-14-256-gb-zelenyj/', 500) # propper form: list of dictionaries\n",
    "# parser.parse_helper.page_to_txt(RAW_HTML_PATH)"
   ]
  },
  {
   "cell_type": "markdown",
   "id": "f97ef329",
   "metadata": {},
   "source": [
    "Препроцессинг корпуса"
   ]
  },
  {
   "cell_type": "code",
   "execution_count": 6,
   "id": "218c1722",
   "metadata": {},
   "outputs": [],
   "source": [
    "# preprocessed_list = tp.preprocess_list_of_texts(tp.convert_to_list_of_reviews(reviews),to_lower=Config.ANALYZER_TO_LOWERCASE, erase_punct=Config.ANALYZER_ERASE_PUNCTUATION)"
   ]
  },
  {
   "cell_type": "code",
   "execution_count": 7,
   "id": "2e3aa88f",
   "metadata": {},
   "outputs": [],
   "source": [
    "positive_list, negative_list = tp.split_positive_negative_parts(reviews, Config.ANALYZER_REVIEW_LEN_TRESHOLD)"
   ]
  },
  {
   "cell_type": "code",
   "execution_count": 8,
   "id": "d82b6873",
   "metadata": {},
   "outputs": [],
   "source": [
    "positive_list = tp.preprocess_list_of_texts(positive_list, to_lower=Config.ANALYZER_TO_LOWERCASE, erase_punct=Config.ANALYZER_ERASE_PUNCTUATION)\n",
    "negative_list = tp.preprocess_list_of_texts(negative_list, to_lower=Config.ANALYZER_TO_LOWERCASE, erase_punct=Config.ANALYZER_ERASE_PUNCTUATION)"
   ]
  },
  {
   "cell_type": "code",
   "execution_count": 9,
   "id": "382e26da",
   "metadata": {},
   "outputs": [],
   "source": [
    "model = KeyBERT(Config.ANALYZER_KEYBERT_MODEL_NAME)"
   ]
  },
  {
   "cell_type": "markdown",
   "id": "40dac313",
   "metadata": {},
   "source": [
    "Облако слов без лемматизации корпуса"
   ]
  },
  {
   "cell_type": "code",
   "execution_count": 10,
   "id": "7eff9808",
   "metadata": {},
   "outputs": [],
   "source": [
    "positive_raw_keywords_list = tp.extract_keyphrases(positive_list, model, Config.ANALYZER_TOP_N_KEYWORDS, Config.ANALYZER_KEYPHRASE_NGRAM_RANGE)\n",
    "positive_keywords_dict = tp.get_dict_keyphrases(positive_raw_keywords_list)\n",
    "negative_raw_keywords_list = tp.extract_keyphrases(negative_list, model, Config.ANALYZER_TOP_N_KEYWORDS, Config.ANALYZER_KEYPHRASE_NGRAM_RANGE)\n",
    "negative_keywords_dict = tp.get_dict_keyphrases(negative_raw_keywords_list)"
   ]
  },
  {
   "cell_type": "code",
   "execution_count": null,
   "id": "06d58094",
   "metadata": {},
   "outputs": [],
   "source": [
    "wordcloud = WordCloud(width=Config.WORDCLOUD_WIDTH,\n",
    "                      height=Config.WORDCLOUD_HEIGHT,\n",
    "                      background_color=Config.WORDCLOUD_BACKGROUND_COLOR,\n",
    "                      margin=Config.WORDCLOUD_MARGIN,\n",
    "                      colormap=Config.WORDCLOUD_COLORMAP,\n",
    "                      collocations=Config.WORDCLOUD_COLLOCATIONS,\n",
    "                      random_state=Config.WORDCLOUD_RANDOM_STATE)"
   ]
  },
  {
   "cell_type": "code",
   "execution_count": 12,
   "id": "1f454842",
   "metadata": {},
   "outputs": [],
   "source": [
    "wordcloud.generate_from_frequencies(positive_keywords_dict)\n",
    "image = wordcloud.to_image()\n",
    "# image.show()\n",
    "image.save(os.path.join(Config.DATA_DIR, 'positive.png'))"
   ]
  },
  {
   "cell_type": "code",
   "execution_count": 13,
   "id": "68a6c887",
   "metadata": {},
   "outputs": [],
   "source": [
    "wordcloud.generate_from_frequencies(negative_keywords_dict)\n",
    "image = wordcloud.to_image()\n",
    "# image.show()\n",
    "image.save(os.path.join(Config.DATA_DIR, 'negative.png'))"
   ]
  },
  {
   "cell_type": "markdown",
   "id": "090085d7",
   "metadata": {},
   "source": [
    "Облако слов с лемматизацией корпуса"
   ]
  },
  {
   "cell_type": "code",
   "execution_count": 14,
   "id": "c56d47fc",
   "metadata": {},
   "outputs": [],
   "source": [
    "mystem = Mystem()"
   ]
  },
  {
   "cell_type": "code",
   "execution_count": 15,
   "id": "87fc6333",
   "metadata": {},
   "outputs": [],
   "source": [
    "# При таком подходе лемматизация занимает чуть более 7 минут\n",
    "# lemmatized_list = get_lemmatized_text(preprocessed_list, mystem)    # Необходима оптимизация + многопоточность. \n",
    "                                                                    # Другой вариант - сконкатенировать список в один большой текст и добавить разделитель. Далее по разделителю преобразовать в список"
   ]
  },
  {
   "cell_type": "code",
   "execution_count": 16,
   "id": "7b3c3ac6",
   "metadata": {},
   "outputs": [],
   "source": [
    "splitter = ' !@#$%^&*() ' # Костыльный разделитель\n",
    "lemmatized_positive = ''.join(mystem.lemmatize(splitter.join(positive_list))) # мерджим в текст с разделителем splitter, лемматизируем -> list[str], снова мерджим\n",
    "lemmatized_positive = lemmatized_positive.split(splitter)\n",
    "lemmatized_negative = ''.join(mystem.lemmatize(splitter.join(negative_list)))\n",
    "lemmatized_negative = lemmatized_negative.split(splitter)"
   ]
  },
  {
   "cell_type": "code",
   "execution_count": 17,
   "id": "7bc8ad8a",
   "metadata": {},
   "outputs": [],
   "source": [
    "positive_raw_keywords_list = tp.extract_keyphrases(lemmatized_positive, model, Config.ANALYZER_TOP_N_KEYWORDS, Config.ANALYZER_KEYPHRASE_NGRAM_RANGE)\n",
    "positive_keywords_dict = tp.get_dict_keyphrases(positive_raw_keywords_list)\n",
    "negative_raw_keywords_list = tp.extract_keyphrases(lemmatized_negative, model, Config.ANALYZER_TOP_N_KEYWORDS, Config.ANALYZER_KEYPHRASE_NGRAM_RANGE)\n",
    "negative_keywords_dict = tp.get_dict_keyphrases(negative_raw_keywords_list)"
   ]
  },
  {
   "cell_type": "code",
   "execution_count": null,
   "id": "193e50f3",
   "metadata": {},
   "outputs": [],
   "source": [
    "wordcloud = WordCloud(width=Config.WORDCLOUD_WIDTH,\n",
    "                      height=Config.WORDCLOUD_HEIGHT,\n",
    "                      background_color=Config.WORDCLOUD_BACKGROUND_COLOR, \n",
    "                      margin=Config.WORDCLOUD_MARGIN,\n",
    "                      colormap=Config.WORDCLOUD_COLORMAP,\n",
    "                      collocations=Config.WORDCLOUD_COLLOCATIONS,\n",
    "                      random_state=Config.WORDCLOUD_RANDOM_STATE)"
   ]
  },
  {
   "cell_type": "code",
   "execution_count": 19,
   "id": "cf44db9d",
   "metadata": {},
   "outputs": [],
   "source": [
    "wordcloud.generate_from_frequencies(positive_keywords_dict)\n",
    "image = wordcloud.to_image()\n",
    "image.show()"
   ]
  },
  {
   "cell_type": "code",
   "execution_count": 20,
   "id": "0dace1e9",
   "metadata": {},
   "outputs": [],
   "source": [
    "wordcloud.generate_from_frequencies(negative_keywords_dict)\n",
    "image = wordcloud.to_image()\n",
    "image.show()"
   ]
  }
 ],
 "metadata": {
  "kernelspec": {
   "display_name": "myenv",
   "language": "python",
   "name": "python3"
  },
  "language_info": {
   "codemirror_mode": {
    "name": "ipython",
    "version": 3
   },
   "file_extension": ".py",
   "mimetype": "text/x-python",
   "name": "python",
   "nbconvert_exporter": "python",
   "pygments_lexer": "ipython3",
   "version": "3.12.0"
  }
 },
 "nbformat": 4,
 "nbformat_minor": 5
}
